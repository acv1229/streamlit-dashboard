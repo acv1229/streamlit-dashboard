{
 "cells": [
  {
   "cell_type": "code",
   "execution_count": 8,
   "id": "21c22cae",
   "metadata": {},
   "outputs": [
    {
     "name": "stdout",
     "output_type": "stream",
     "text": [
      "Portfolio EV if Kansas City Chiefs wins semifinal: $249254.49\n",
      "Portfolio EV if Baltimore Ravens wins semifinal: $162250.33\n",
      "Portfolio EV if Detroit Lions wins semifinal: $258334.75\n",
      "Portfolio EV if Philadelphia Eagles wins semifinal: $110585.32\n"
     ]
    }
   ],
   "source": [
    "# Four-Team Tournament EV Calculator with Database Query Integration\n",
    "\n",
    "import mysql.connector\n",
    "from collections import defaultdict\n",
    "\n",
    "# Connect to the database\n",
    "conn = mysql.connector.connect(\n",
    "    host='betting-db.cp86ssaw6cm7.us-east-1.rds.amazonaws.com',\n",
    "    user='admin',\n",
    "    password='7nRB1i2&A-K>',\n",
    "    database='betting_db'\n",
    ")\n",
    "\n",
    "cursor = conn.cursor()\n",
    "\n",
    "# Query to get PotentialPayout for championship bets\n",
    "query = \"\"\"\n",
    "    SELECT \n",
    "        legs.ParticipantName,\n",
    "        SUM(bets.PotentialPayout) AS total_payout\n",
    "    FROM bets\n",
    "    JOIN legs ON bets.WagerID = legs.WagerID\n",
    "    WHERE \n",
    "        bets.LegCount = 1\n",
    "        AND bets.WLCA = 'Active'\n",
    "        AND bets.WhichBankroll = 'GreenAleph'\n",
    "        AND legs.LeagueName = 'NFL'\n",
    "        AND legs.EventType = 'Championship'\n",
    "    GROUP BY legs.ParticipantName;\n",
    "\"\"\"\n",
    "\n",
    "cursor.execute(query)\n",
    "\n",
    "# Store payouts in a dictionary\n",
    "payouts = defaultdict(lambda: {'championship': 0})\n",
    "for participant_name, total_payout in cursor.fetchall():\n",
    "    normalized_name = participant_name.strip().lower()\n",
    "    payouts[normalized_name]['championship'] = float(total_payout)\n",
    "\n",
    "cursor.close()\n",
    "conn.close()\n",
    "\n",
    "# Matchups and probabilities (example values for proof of concept)\n",
    "team_probabilities = {\n",
    "    \"kansas city chiefs\": {\"semifinal_prob\": 0.51, \"championship_probs\": {\"detroit lions\": 0.45, \"philadelphia eagles\": 0.55}},\n",
    "    \"baltimore ravens\": {\"semifinal_prob\": 0.49, \"championship_probs\": {\"detroit lions\": 0.5, \"philadelphia eagles\": 0.60}},\n",
    "    \"detroit lions\": {\"semifinal_prob\": 0.65, \"championship_probs\": {\"kansas city chiefs\": 0.55, \"baltimore ravens\": 0.5}},\n",
    "    \"philadelphia eagles\": {\"semifinal_prob\": 0.35, \"championship_probs\": {\"kansas city chiefs\": 0.45, \"baltimore ravens\": 0.40}},\n",
    "}\n",
    "\n",
    "# Function to calculate portfolio EV for a given semifinal outcome\n",
    "def calculate_portfolio_ev(winning_team):\n",
    "    ev = 0\n",
    "\n",
    "    # Calculate EV contributions for all potential championship matchups\n",
    "    for opponent, win_prob in team_probabilities[winning_team][\"championship_probs\"].items():\n",
    "        opponent_prob = team_probabilities[opponent][\"semifinal_prob\"]\n",
    "        ev += (\n",
    "            win_prob * opponent_prob * payouts[winning_team][\"championship\"] +\n",
    "            (1 - win_prob) * opponent_prob * payouts[opponent][\"championship\"]\n",
    "        )\n",
    "\n",
    "    return ev\n",
    "\n",
    "# Calculate portfolio EVs for each scenario\n",
    "scenarios = [\n",
    "    (\"kansas city chiefs\", \"baltimore ravens\"),  # Chiefs beat Ravens\n",
    "    (\"baltimore ravens\", \"kansas city chiefs\"),  # Ravens beat Chiefs\n",
    "    (\"detroit lions\", \"philadelphia eagles\"),  # Lions beat Eagles\n",
    "    (\"philadelphia eagles\", \"detroit lions\"),  # Eagles beat Lions\n",
    "]\n",
    "\n",
    "ev_results = {}\n",
    "for winner, _ in scenarios:\n",
    "    ev = calculate_portfolio_ev(winner)\n",
    "    ev_results[f\"{winner.title()} wins semifinal\"] = ev\n",
    "\n",
    "# Display results\n",
    "for outcome, ev in ev_results.items():\n",
    "    print(f\"Portfolio EV if {outcome}: ${ev:.2f}\")\n"
   ]
  },
  {
   "cell_type": "code",
   "execution_count": null,
   "id": "b8315856",
   "metadata": {},
   "outputs": [],
   "source": []
  },
  {
   "cell_type": "code",
   "execution_count": null,
   "id": "f326f2a5",
   "metadata": {},
   "outputs": [],
   "source": []
  },
  {
   "cell_type": "code",
   "execution_count": null,
   "id": "6a755bd1",
   "metadata": {},
   "outputs": [],
   "source": []
  }
 ],
 "metadata": {
  "kernelspec": {
   "display_name": "Python 3 (ipykernel)",
   "language": "python",
   "name": "python3"
  },
  "language_info": {
   "codemirror_mode": {
    "name": "ipython",
    "version": 3
   },
   "file_extension": ".py",
   "mimetype": "text/x-python",
   "name": "python",
   "nbconvert_exporter": "python",
   "pygments_lexer": "ipython3",
   "version": "3.11.7"
  }
 },
 "nbformat": 4,
 "nbformat_minor": 5
}
